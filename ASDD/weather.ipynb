{
 "cells": [
  {
   "cell_type": "markdown",
   "metadata": {},
   "source": [
    "# A web scraping demonstration using Python"
   ]
  },
  {
   "cell_type": "code",
   "execution_count": null,
   "metadata": {
    "scrolled": true
   },
   "outputs": [],
   "source": [
    "# a list stores a collection of objects\n",
    "x = [\"one\", \"two\"]\n",
    "print(x)"
   ]
  },
  {
   "cell_type": "code",
   "execution_count": null,
   "metadata": {},
   "outputs": [],
   "source": [
    "# the append function adds an object to the list\n",
    "x.append(\"three\")\n",
    "print(x)"
   ]
  },
  {
   "cell_type": "code",
   "execution_count": null,
   "metadata": {},
   "outputs": [],
   "source": [
    "# the 'split' function is used to split strings into a list of smaller components\n",
    "sentence = \"Hello, how are you?\"\n",
    "words = sentence.split(\" \")\n",
    "print(words)"
   ]
  },
  {
   "cell_type": "code",
   "execution_count": null,
   "metadata": {},
   "outputs": [],
   "source": [
    "# a 'for loop' is used to iterate over each item in a collection \n",
    "num = 1\n",
    "for w in words :\n",
    "    print(\"word #\", num, \":\", w)\n",
    "    num = num + 1"
   ]
  },
  {
   "cell_type": "code",
   "execution_count": null,
   "metadata": {},
   "outputs": [],
   "source": [
    "# We 'scrape' a web page by downloading the underlying the html file, and parsing its contents\n",
    "# We will scrape information from Weather.com\n",
    "\n",
    "from bs4 import BeautifulSoup\n",
    "import requests\n",
    "\n",
    "# get the page\n",
    "url = \"https://weather.com/weather/tenday/l/06226:4:US\"\n",
    "page = requests.get(url)\n",
    "\n",
    "# parse the page\n",
    "soup = BeautifulSoup(page.content, 'html.parser')\n",
    "\n",
    "# find and display the table\n",
    "table = soup.find(\"table\")\n",
    "print(table.prettify())\n"
   ]
  },
  {
   "cell_type": "code",
   "execution_count": null,
   "metadata": {},
   "outputs": [],
   "source": [
    "# look at the text of the second row, note that the high/low temp column has a class named 'temp'\n",
    "rows = table.find_all(\"tr\")\n",
    "columns = rows[1].find_all(\"td\")\n",
    "for c in columns :\n",
    "    print(c)\n",
    "    print()\n"
   ]
  },
  {
   "cell_type": "code",
   "execution_count": null,
   "metadata": {},
   "outputs": [],
   "source": [
    "hilow = table.find_all(\"td\", {\"class\": \"temp\"})\n",
    "hi_temps = []\n",
    "for temps in hilow :\n",
    "    t = temps.text.split(\"°\")\n",
    "    if len(t) != 3 :\n",
    "        hi_temps.append(None)\n",
    "    else :\n",
    "        hi_temps.append(int(t[0]))\n",
    "        \n",
    "print(hi_temps)\n",
    "    "
   ]
  },
  {
   "cell_type": "code",
   "execution_count": null,
   "metadata": {},
   "outputs": [],
   "source": [
    "\n",
    "descriptions = table.find_all(\"td\", {\"class\": \"description\"})\n",
    "colors = []\n",
    "for d in descriptions :\n",
    "    print(d.text)\n",
    "    print()\n",
    "    if \"Sunny\" in d.text :\n",
    "        colors.append(\"orange\")\n",
    "    elif \"Showers\" in d.text :\n",
    "        colors.append(\"blue\")\n",
    "    else :\n",
    "        colors.append(\"gray\")\n"
   ]
  },
  {
   "cell_type": "code",
   "execution_count": null,
   "metadata": {},
   "outputs": [],
   "source": [
    "import numpy as np\n",
    "import matplotlib.pyplot as plt\n",
    " \n",
    "# we need to remove missing values for plotting\n",
    "hList = []\n",
    "cList = []\n",
    "for h,c in zip(hi_temps, colors) :\n",
    "    if h!=None:\n",
    "        hList.append(h)\n",
    "        cList.append(c)\n",
    "        \n",
    "hi_temps = hList\n",
    "colors = cList\n",
    "\n",
    "y_pos = np.arange(len(hi_temps))\n",
    " \n",
    "plt.bar(y_pos, hi_temps, align='center', alpha=0.5, color = colors)\n",
    "plt.xticks(y_pos, range(1,16))\n",
    "plt.ylabel('High temperature')\n",
    "plt.title('15 Day Weather Forecast')\n",
    "plt.show()"
   ]
  },
  {
   "cell_type": "code",
   "execution_count": null,
   "metadata": {},
   "outputs": [],
   "source": [
    "# define a function to get high temps\n",
    "# We 'scrape' a web page by downloading the underlying HTML, and parsing its contents\n",
    "# We will look at scraping information from Weather.com\n",
    "\n",
    "from collections import namedtuple\n",
    "\n",
    "def getHighTemps(zip) :\n",
    "\n",
    "    url = \"https://weather.com/weather/tenday/l/\" + zip + \":4:US\"\n",
    "    page = requests.get(url)\n",
    "\n",
    "    soup = BeautifulSoup(page.content, 'html.parser')\n",
    "\n",
    "    table = soup.find(\"table\")\n",
    "\n",
    "    hilow = table.find_all(\"td\", {\"class\": \"temp\"})\n",
    "    hi_temps = []\n",
    "    for temps in hilow :\n",
    "        t = temps.text.split(\"°\")\n",
    "        if len(t) != 3 :\n",
    "            hi_temps.append(None)\n",
    "        else :\n",
    "            hi_temps.append(int(t[0]))\n",
    "\n",
    "\n",
    "    descriptions = table.find_all(\"td\", {\"class\": \"description\"})\n",
    "    colors = []\n",
    "    for d in descriptions :        \n",
    "        if \"Sunny\" in d.text :\n",
    "            colors.append(\"orange\")\n",
    "        elif \"Showers\" in d.text :\n",
    "            colors.append(\"blue\")\n",
    "        else :\n",
    "            colors.append(\"gray\")\n",
    "  \n",
    "    results = namedtuple('results', 'highs colors')\n",
    "    r = results(hi_temps, colors)\n",
    "    return r\n",
    "\n",
    "\n",
    "willimantic = getHighTemps(\"06226\")\n",
    "print(willimantic.highs)\n",
    "\n"
   ]
  },
  {
   "cell_type": "code",
   "execution_count": null,
   "metadata": {},
   "outputs": [],
   "source": [
    "# get the data to plot\n",
    "willi = getHighTemps(\"06226\")\n",
    "mb = getHighTemps(\"33109\") \n",
    "\n",
    "# create plot\n",
    "days = range(1,16)\n",
    "\n",
    "# plot Willimantic data\n",
    "plt.scatter(days, willi.highs, c = willi.colors)\n",
    "plt.plot(days, willi.highs, label = \"Willimantic\")\n",
    "\n",
    "# plot Miami Beach data\n",
    "plt.scatter(days, mb.highs, c = mb.colors)\n",
    "plt.plot(days, mb.highs, label = \"Miami Beach\")\n",
    "\n",
    "# Add labels and show plot\n",
    "plt.xlabel(\"Day\")\n",
    "plt.ylabel(\"High Temperature\")\n",
    "plt.legend()\n",
    "plt.show()"
   ]
  },
  {
   "cell_type": "code",
   "execution_count": null,
   "metadata": {
    "collapsed": true
   },
   "outputs": [],
   "source": [
    "# Note: because the wordcloud package is not available online, running this code will generate an error\n",
    "from wordcloud import WordCloud, STOPWORDS\n",
    "import matplotlib.pyplot as plt\n",
    "\n",
    "# get Willimantic weather descriptions (the text only) and store as a single string\n",
    "descriptions = table.find_all(\"td\", {\"class\": \"description\"})\n",
    "descriptions = [d.text for d in descriptions]\n",
    "descriptions = \" \".join(descriptions)\n",
    "\n",
    "#generate the word cloud\n",
    "wordcloud = WordCloud(\n",
    "        background_color = 'black',\n",
    "        stopwords = STOPWORDS.add('RT')\n",
    ").generate(descriptions)\n",
    "\n",
    "plt.imshow(wordcloud)\n",
    "plt.show()\n"
   ]
  },
  {
   "cell_type": "code",
   "execution_count": null,
   "metadata": {
    "collapsed": true
   },
   "outputs": [],
   "source": []
  }
 ],
 "metadata": {
  "kernelspec": {
   "display_name": "Python 3",
   "language": "python",
   "name": "python3"
  },
  "language_info": {
   "codemirror_mode": {
    "name": "ipython",
    "version": 3
   },
   "file_extension": ".py",
   "mimetype": "text/x-python",
   "name": "python",
   "nbconvert_exporter": "python",
   "pygments_lexer": "ipython3",
   "version": "3.6.1"
  }
 },
 "nbformat": 4,
 "nbformat_minor": 2
}
